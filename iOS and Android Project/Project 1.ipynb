{
 "cells": [
  {
   "cell_type": "markdown",
   "metadata": {},
   "source": [
    "# Profitable App Profiles for the App Store and Google Play Markets\n",
    "\n",
    "In this project, we will be exploring what types of applications are available for download on the Apple and Google Play app stores. We will be analyzing free applications and how much advertising revenue they generate to determine profitability, and we will try to look for trends in the data.\n",
    "\n",
    "First, we must import the CSV files of the application data (shown below)."
   ]
  },
  {
   "cell_type": "markdown",
   "metadata": {},
   "source": [
    "In the code below, .csv files containing the application are opened in python and saved as a variable containing lists of lists."
   ]
  },
  {
   "cell_type": "code",
   "execution_count": 1,
   "metadata": {},
   "outputs": [],
   "source": [
    "from csv import reader\n",
    "\n",
    "### The Google Play data set ###\n",
    "android_open = open('googleplaystore.csv', encoding='utf8')\n",
    "android_read = reader(android_open)\n",
    "android = list(android_read)\n",
    "android_header = android[0]\n",
    "android = android[1:]\n",
    "\n",
    "### The App Store data set ###\n",
    "ios_open = open('AppleStore.csv', encoding='utf8')\n",
    "ios_read = reader(ios_open)\n",
    "ios = list(ios_read)\n",
    "ios_header = ios[0]\n",
    "ios = ios[1:]"
   ]
  },
  {
   "cell_type": "markdown",
   "metadata": {},
   "source": [
    "Next, we will define a function called explore_data that will allow us to slice our data and make it more readable. This function will also allow us to see the size of our dataset (numbers of rows and columns)."
   ]
  },
  {
   "cell_type": "code",
   "execution_count": 2,
   "metadata": {
    "scrolled": false
   },
   "outputs": [],
   "source": [
    "def explore_data(dataset, start, end, rows_and_columns=False):\n",
    "    dataset_slice = dataset[start:end]    \n",
    "    for row in dataset_slice:\n",
    "        print(row)\n",
    "        print('\\n') # adds a new (empty) line after each row\n",
    "\n",
    "    if rows_and_columns:\n",
    "        print('Number of rows:', len(dataset))\n",
    "        print('Number of columns:', len(dataset[0]))"
   ]
  },
  {
   "cell_type": "markdown",
   "metadata": {},
   "source": [
    "Below we display the first few rows of android applicaton data, including the number of columns and rows. More detailed information about the dataset can be found [here](https://www.kaggle.com/lava18/google-play-store-apps). "
   ]
  },
  {
   "cell_type": "code",
   "execution_count": 3,
   "metadata": {},
   "outputs": [
    {
     "name": "stdout",
     "output_type": "stream",
     "text": [
      "['App', 'Category', 'Rating', 'Reviews', 'Size', 'Installs', 'Type', 'Price', 'Content Rating', 'Genres', 'Last Updated', 'Current Ver', 'Android Ver']\n",
      "\n",
      "\n",
      "['Photo Editor & Candy Camera & Grid & ScrapBook', 'ART_AND_DESIGN', '4.1', '159', '19M', '10,000+', 'Free', '0', 'Everyone', 'Art & Design', 'January 7, 2018', '1.0.0', '4.0.3 and up']\n",
      "\n",
      "\n",
      "['Coloring book moana', 'ART_AND_DESIGN', '3.9', '967', '14M', '500,000+', 'Free', '0', 'Everyone', 'Art & Design;Pretend Play', 'January 15, 2018', '2.0.0', '4.0.3 and up']\n",
      "\n",
      "\n",
      "['U Launcher Lite – FREE Live Cool Themes, Hide Apps', 'ART_AND_DESIGN', '4.7', '87510', '8.7M', '5,000,000+', 'Free', '0', 'Everyone', 'Art & Design', 'August 1, 2018', '1.2.4', '4.0.3 and up']\n",
      "\n",
      "\n",
      "Number of rows: 10841\n",
      "Number of columns: 13\n"
     ]
    }
   ],
   "source": [
    "print(android_header)\n",
    "print('\\n')\n",
    "explore_data(android,0,3,True)"
   ]
  },
  {
   "cell_type": "markdown",
   "metadata": {},
   "source": [
    "See below for description of the columns that are found in the Google Play dataset.\n",
    "\n",
    "| Column Title   | Description |\n",
    "| ----------- | :----------- |\n",
    "| App      | Application name |\n",
    "| Category   | Category the app belongs to        |\n",
    "| Rating   | Overall user rating of the app (as when scraped)       |\n",
    "| Reviews   | Number of user reviews for the app (as when scraped)        |\n",
    "| Size   | Size of the app (as when scraped)       |\n",
    "| Installs   | Number of user downloads/installs for the app (as when scraped)      |\n",
    "| Type   | Paid or Free  |\n",
    "| Price   | Price of the app (as when scraped)       |\n",
    "| Content Rating   | Age group the app is targeted at - Children / Mature 21+ / Adult       |\n",
    "| Genres   | An app can belong to multiple genres (apart from its main category). Eg, a musical family game will belong to     |\n",
    "| Last Updated   | Date the application was last updated        |\n",
    "| Current Ver   | Current version of the application |\n",
    "| Android Ver   | Current version of Android that is compatible with the application        |"
   ]
  },
  {
   "cell_type": "markdown",
   "metadata": {},
   "source": [
    "Display the first few rows of Apple IOS applicaton data, including the number of columns and rows. More detailed information about the dataset can be found [here](https://www.kaggle.com/ramamet4/app-store-apple-data-set-10k-apps). \n",
    "\n"
   ]
  },
  {
   "cell_type": "code",
   "execution_count": 4,
   "metadata": {},
   "outputs": [
    {
     "name": "stdout",
     "output_type": "stream",
     "text": [
      "['id', 'track_name', 'size_bytes', 'currency', 'price', 'rating_count_tot', 'rating_count_ver', 'user_rating', 'user_rating_ver', 'ver', 'cont_rating', 'prime_genre', 'sup_devices.num', 'ipadSc_urls.num', 'lang.num', 'vpp_lic']\n",
      "\n",
      "\n",
      "['284882215', 'Facebook', '389879808', 'USD', '0.0', '2974676', '212', '3.5', '3.5', '95.0', '4+', 'Social Networking', '37', '1', '29', '1']\n",
      "\n",
      "\n",
      "['389801252', 'Instagram', '113954816', 'USD', '0.0', '2161558', '1289', '4.5', '4.0', '10.23', '12+', 'Photo & Video', '37', '0', '29', '1']\n",
      "\n",
      "\n",
      "['529479190', 'Clash of Clans', '116476928', 'USD', '0.0', '2130805', '579', '4.5', '4.5', '9.24.12', '9+', 'Games', '38', '5', '18', '1']\n",
      "\n",
      "\n",
      "Number of rows: 7197\n",
      "Number of columns: 16\n"
     ]
    }
   ],
   "source": [
    "print(ios_header)\n",
    "print('\\n')\n",
    "explore_data(ios,0,3,True)"
   ]
  },
  {
   "cell_type": "markdown",
   "metadata": {},
   "source": [
    "See below for description of the columns that are found in the Apple Store dataset.\n",
    "\n",
    "| Column Title   | Description |\n",
    "| ----------- | :----------- |\n",
    "| id      | App ID |\n",
    "| track_name   | App Name        |\n",
    "| size_bytes   | Size (in Bytes)       |\n",
    "| currency   | Currency Type        |\n",
    "| price   | Price amount       |\n",
    "| rating_count_tot   | User Rating counts (for all version)      |\n",
    "| rating_count_ver   | User Rating counts (for current version)  |\n",
    "| user_rating   | Average User Rating value (for all version)  |\n",
    "| user_rating_ver   | Average User Rating value (for current version)       |\n",
    "| ver   | Latest version code      |\n",
    "| cont_rating   | Content Rating   |\n",
    "| prime_genre   | Primary Genre |\n",
    "| sup_devices.num   | Number of supporting devices |\n",
    "| ipadSc_urls.num   | Number of screenshots showed for display |\n",
    "| lang.num   | Number of supported languages |\n",
    "| vpp_lic   | Vpp Device Based Licensing Enabled        |"
   ]
  },
  {
   "cell_type": "markdown",
   "metadata": {},
   "source": [
    "# Removing an Incorrect App Entry\n",
    "\n",
    "In the discussion section of the Google Play Store data set, one of the discussions outlines an error for row 10472. Let's print this row and compare it against the header and another row that is correct."
   ]
  },
  {
   "cell_type": "code",
   "execution_count": 5,
   "metadata": {},
   "outputs": [
    {
     "name": "stdout",
     "output_type": "stream",
     "text": [
      "['Life Made WI-Fi Touchscreen Photo Frame', '1.9', '19', '3.0M', '1,000+', 'Free', '0', 'Everyone', '', 'February 11, 2018', '1.0.19', '4.0 and up']\n",
      "\n",
      "\n",
      "['App', 'Category', 'Rating', 'Reviews', 'Size', 'Installs', 'Type', 'Price', 'Content Rating', 'Genres', 'Last Updated', 'Current Ver', 'Android Ver']\n",
      "\n",
      "\n",
      "['Photo Editor & Candy Camera & Grid & ScrapBook', 'ART_AND_DESIGN', '4.1', '159', '19M', '10,000+', 'Free', '0', 'Everyone', 'Art & Design', 'January 7, 2018', '1.0.0', '4.0.3 and up']\n"
     ]
    }
   ],
   "source": [
    "print(android[10472])  # incorrect row\n",
    "print('\\n')\n",
    "print(android_header)  # header\n",
    "print('\\n')\n",
    "print(android[0])      # correct row"
   ]
  },
  {
   "cell_type": "markdown",
   "metadata": {},
   "source": [
    "It is clear that the \"Life Made WI-Fi\" entry is incorrect, as the second entry of that row displays '1.9' for the category. We will delete this row below to delete it from the dataset."
   ]
  },
  {
   "cell_type": "code",
   "execution_count": 6,
   "metadata": {
    "scrolled": true
   },
   "outputs": [
    {
     "name": "stdout",
     "output_type": "stream",
     "text": [
      "10841\n",
      "10840\n"
     ]
    }
   ],
   "source": [
    "print(len(android))\n",
    "del android[10472]  # don't run this more than once\n",
    "print(len(android))"
   ]
  },
  {
   "cell_type": "markdown",
   "metadata": {},
   "source": [
    "# Removing Duplicate App Entries\n",
    "\n",
    "Next, we will begin to analyze our data to determine if there are any errors or corrections needed. We will begin by determining if there are any duplicates in the Android dataset.\n",
    "\n",
    "The code below looks at the name of each application in our android dataset. If the name is unique, it will be added to a list of all of the unique app names. If the name has already been added previously to the list of unique apps, it will be added to the duplicates list."
   ]
  },
  {
   "cell_type": "code",
   "execution_count": 7,
   "metadata": {
    "scrolled": true
   },
   "outputs": [
    {
     "name": "stdout",
     "output_type": "stream",
     "text": [
      "There are 9659 unique apps in the android data set.\n",
      "\n",
      "There are 1181 duplicate apps in the android data set.\n",
      "\n",
      " The first few unique application names will be printed below \n",
      "\n",
      "['Photo Editor & Candy Camera & Grid & ScrapBook', 'Coloring book moana', 'U Launcher Lite – FREE Live Cool Themes, Hide Apps', 'Sketch - Draw & Paint']\n",
      "\n",
      " The first few duplicate application names will be printed below \n",
      "\n",
      "['Quick PDF Scanner + OCR FREE', 'Box', 'Google My Business', 'ZOOM Cloud Meetings']\n"
     ]
    }
   ],
   "source": [
    "unique_android_apps = []\n",
    "duplicate_android_apps = []\n",
    "\n",
    "for app in android:\n",
    "    if app[0] in unique_android_apps:\n",
    "        duplicate_android_apps.append(app[0])\n",
    "    else:\n",
    "        unique_android_apps.append(app[0])\n",
    "        \n",
    "print('There are ' + str(len(unique_android_apps)) + ' unique apps in the android data set.' + '\\n\\n' +'There are '+ str(len(duplicate_android_apps)) + ' duplicate apps in the android data set.')\n",
    "print('\\n The first few unique application names will be printed below \\n\\n' + str(unique_android_apps[0:4]))\n",
    "print('\\n The first few duplicate application names will be printed below \\n\\n' + str(duplicate_android_apps[0:4]))"
   ]
  },
  {
   "cell_type": "markdown",
   "metadata": {},
   "source": [
    "We will want to remove duplicate apps from our dataset, but we want to keep 1 unique value for all applications. To determine which applications to delete, we will look at the number of ratings. The assumption is that the higher the number of ratings, the more up to date the information associated with that entry. We will create a dictionary that contains each unique application and the maximum number of reviews that each unique application has in our dataset. \n",
    "\n",
    "To create our dictionary, we will loop through the android data set. Each time we encounter a new application name, we will add the application and its number of reviews to our dictionary. Also, any time we encounter a duplicate application that has a number of reviews greater than has already been encountered for that app, it will be added to our dictionary."
   ]
  },
  {
   "cell_type": "code",
   "execution_count": 8,
   "metadata": {
    "scrolled": false
   },
   "outputs": [
    {
     "name": "stdout",
     "output_type": "stream",
     "text": [
      "9659\n",
      "159.0\n"
     ]
    }
   ],
   "source": [
    "reviews_max = {}\n",
    "\n",
    "for app in android:\n",
    "    name = app[0]\n",
    "    n_reviews = float(app[3])\n",
    "    if name in reviews_max and reviews_max[name] < n_reviews:\n",
    "        reviews_max[name] = n_reviews\n",
    "    elif name not in reviews_max:\n",
    "        reviews_max[name] = n_reviews\n",
    "        \n",
    "print(len(reviews_max))\n",
    "print(reviews_max['Photo Editor & Candy Camera & Grid & ScrapBook'])\n"
   ]
  },
  {
   "cell_type": "markdown",
   "metadata": {},
   "source": [
    "Now that we have a dictionary with a list of each unique application and its maximum rating in our dataset, we will use the dictionary to clean up our dataset.\n",
    "\n",
    "For this task, we create new empty lists called android_clean and already_added.\n",
    "\n",
    "We loop through our android data set adding all application data to android_clean and application names to already_added. For each application we encounter, the following must be true in order for the application to be added to the cleaned data set or the already_added list:\n",
    "- The number of reviews for the application must be equal to the maximum number of reviews for that app (per the values in the reviews_max dictionary, created above.) This ensures that we are not capturing any applications that are out of date and have a smaller rating count than what we are expecting.\n",
    "- The application name must not have been already added to the already_added list. This ensures that if any applications have duplicates that have the same maximum rating count, only one of the applications are saved to the cleaned data set.\n"
   ]
  },
  {
   "cell_type": "code",
   "execution_count": 9,
   "metadata": {},
   "outputs": [
    {
     "name": "stdout",
     "output_type": "stream",
     "text": [
      "9659\n"
     ]
    }
   ],
   "source": [
    "android_clean = []\n",
    "already_added = []\n",
    "\n",
    "for app in android:\n",
    "    name = app[0]\n",
    "    n_reviews = float(app[3])\n",
    "    if n_reviews == reviews_max[name] and name not in already_added:\n",
    "        android_clean.append(app)\n",
    "        already_added.append(name)\n",
    "        \n",
    "print(len(android_clean))\n",
    "        "
   ]
  },
  {
   "cell_type": "markdown",
   "metadata": {},
   "source": [
    "Above, we have removed any duplicate applications from the android data set. \n",
    "\n",
    "Now, we will review the ios data set and use app id's to determine if we need to remove duplicates from that data set as well."
   ]
  },
  {
   "cell_type": "code",
   "execution_count": 10,
   "metadata": {},
   "outputs": [
    {
     "name": "stdout",
     "output_type": "stream",
     "text": [
      "There are 7197 unique apps in the ios data set.\n",
      "\n",
      "There are 0 duplicate apps in the ios data set.\n",
      "\n",
      " The first few unique application id's will be printed below \n",
      "\n",
      "['284882215', '389801252', '529479190', '420009108']\n"
     ]
    }
   ],
   "source": [
    "unique_ios_apps = []\n",
    "duplicate_ios_apps = []\n",
    "\n",
    "for app in ios:\n",
    "    if app[0] in unique_ios_apps:\n",
    "        duplicate_ios_apps.append(app[0])\n",
    "    else:\n",
    "        unique_ios_apps.append(app[0])\n",
    "        \n",
    "print('There are ' + str(len(unique_ios_apps)) + ' unique apps in the ios data set.' + '\\n\\n' +'There are '+ str(len(duplicate_ios_apps)) + ' duplicate apps in the ios data set.')\n",
    "print(\"\\n The first few unique application id's will be printed below \\n\\n\" + str(unique_ios_apps[0:4]))\n"
   ]
  },
  {
   "cell_type": "markdown",
   "metadata": {},
   "source": [
    "# Remove non-English application data\n",
    "For our analysis we are interested only in applications that are published in English. Upon review of our cleaned data sets, we find that some of the applications in both the ios and android app stores are published in foreign languages. We will remove these applications to further clean the data sets.\n",
    "\n",
    "Below we can see a couple of examples from each app store that will be removed."
   ]
  },
  {
   "cell_type": "code",
   "execution_count": 11,
   "metadata": {
    "scrolled": false
   },
   "outputs": [
    {
     "name": "stdout",
     "output_type": "stream",
     "text": [
      "爱奇艺PPS -《欢乐颂2》电视剧热播\n",
      "【脱出ゲーム】絶対に最後までプレイしないで 〜謎解き＆ブロックパズル〜\n",
      "\n",
      "\n",
      "中国語 AQリスニング\n",
      "لعبة تقدر تربح DZ\n"
     ]
    }
   ],
   "source": [
    "print(ios[813][1])\n",
    "print(ios[6731][1])\n",
    "print('\\n')\n",
    "print(android_clean[4412][0])\n",
    "print(android_clean[7940][0])"
   ]
  },
  {
   "cell_type": "markdown",
   "metadata": {},
   "source": [
    "Now, we will define a function that takes in a string and determines if there are any non-Enlish characters contained within the string. For this exercise, we define a character as non-English if  the corresponding ASCII code number is over 127. We can check the ASCII code of characters with the ord() function.\n",
    "\n",
    "Some characters (such as the ™ and 😜 characters in the strings tested below) do not have ASCII codes between 0 and 127 but should not strictly be considered non-English. For this reason, we will require that a string has 3 or more characters falling outside the ASCII 0 - 127 range before determining that the string itself is non-English.\n",
    "\n",
    "See below for the definition of the function and a few test cases."
   ]
  },
  {
   "cell_type": "code",
   "execution_count": 12,
   "metadata": {
    "scrolled": true
   },
   "outputs": [
    {
     "name": "stdout",
     "output_type": "stream",
     "text": [
      "True\n",
      "False\n",
      "True\n",
      "True\n"
     ]
    }
   ],
   "source": [
    "def is_english(string):\n",
    "    string = str(string)\n",
    "    non_english_char = 0\n",
    "    for character in string:\n",
    "        if ord(character) > 127:\n",
    "            non_english_char += 1\n",
    "            if non_english_char == 4:\n",
    "                return False\n",
    "    return True\n",
    "\n",
    "print(is_english('Instagram'))\n",
    "print(is_english('爱奇艺PPS -《欢乐颂2》电视剧热播'))\n",
    "print(is_english('Docs To Go™ Free Office Suite'))\n",
    "print(is_english('Instachat 😜'))"
   ]
  },
  {
   "cell_type": "code",
   "execution_count": 13,
   "metadata": {},
   "outputs": [
    {
     "name": "stdout",
     "output_type": "stream",
     "text": [
      "9614\n",
      "45\n",
      "6183\n",
      "1014\n"
     ]
    }
   ],
   "source": [
    "android_english_clean = []\n",
    "android_non_english_clean = []\n",
    "\n",
    "for app in android_clean:\n",
    "    if is_english(app[0]) == True:\n",
    "        android_english_clean.append(app)\n",
    "    else:\n",
    "        android_non_english_clean.append(app)\n",
    "        \n",
    "print(len(android_english_clean))\n",
    "print(len(android_non_english_clean))\n",
    "\n",
    "ios_english_clean = []\n",
    "ios_non_english_clean = []\n",
    "\n",
    "for app in ios:\n",
    "    if is_english(app[1]) == True:\n",
    "        ios_english_clean.append(app)\n",
    "    else:\n",
    "        ios_non_english_clean.append(app)\n",
    "\n",
    "print(len(ios_english_clean))\n",
    "print(len(ios_non_english_clean))\n"
   ]
  },
  {
   "cell_type": "markdown",
   "metadata": {},
   "source": [
    "So far, we have spent time cleaning our Apple store and Android datasets, removing incorrect data, removing duplicate entries and non-English applications.\n",
    "\n",
    "Now we want to isolate the applications that are free to download. To do so, we will loop through the cleaned lists of applications and create new lists containing only the apps whose price is zero.\n",
    "\n",
    "To do this, we define a new function, free_apps that takes a list of applications and the index number of the price column for that set of applications as inputs. For the android and apple datasets that we are analyzing, the float function can be used to identify applications with a price of zero. However, applications in the android store that have a non-zero price can not be read using the float because they contain a '$' symbol in front of the cost. For this reason, and because we are only looking for free applications, we use a try / except block to skip over these priced applications.\n",
    "\n",
    "Free applications from our datasets are returned as outputs of the free_apps function and can be saved as new variables below."
   ]
  },
  {
   "cell_type": "code",
   "execution_count": 14,
   "metadata": {},
   "outputs": [
    {
     "name": "stdout",
     "output_type": "stream",
     "text": [
      "8864\n",
      "3222\n"
     ]
    }
   ],
   "source": [
    "def free_apps(app_list,price_column):\n",
    "    free_app_list = []\n",
    "    for app in app_list:\n",
    "        try:\n",
    "            app_price = float(app[price_column])\n",
    "        except:\n",
    "            continue\n",
    "        if app_price == 0:\n",
    "            free_app_list.append(app)\n",
    "    return free_app_list\n",
    "\n",
    "free_android_apps = free_apps(android_english_clean,7)\n",
    "print(len(free_android_apps))\n",
    "\n",
    "free_ios_apps = free_apps(ios_english_clean,4)\n",
    "print(len(free_ios_apps))\n",
    "\n"
   ]
  },
  {
   "cell_type": "markdown",
   "metadata": {},
   "source": [
    "We would like to find out if there are categories of applications that are popular on both the iOS store and the android google play store. In order to do so,  we want to take the count or percentage of free applications belonging to each genre from each store. The columns of data that will be helpful for this analysis are the prime_genre column for the iOS store and the Category and column for the android store.\n",
    "\n",
    "We will use the freq_table function below to loop through our free lists of applications to create a frequency table / dictionary of the genres of applications. The display_proportion_table function will be used to sort the genres of applications from largest proportion to lowest proportion. "
   ]
  },
  {
   "cell_type": "code",
   "execution_count": 15,
   "metadata": {},
   "outputs": [],
   "source": [
    "def freq_table(dataset, index):\n",
    "    table = {}\n",
    "    numelements = 0\n",
    "    for app in dataset:\n",
    "        numelements += 1\n",
    "        if app[index] in table:\n",
    "            table[app[index]] += 1\n",
    "        else:\n",
    "            table[app[index]] = 1\n",
    "            \n",
    "    table_percentages = {}\n",
    "    for key in table:\n",
    "            table_percentages[key] = table[key] * 100 / numelements\n",
    "    return table_percentages\n",
    "\n",
    "def display_proportion_table(dataset, index):\n",
    "    table = freq_table(dataset, index)\n",
    "    table_display = []\n",
    "    for key in table:\n",
    "        key_val_as_tuple = (table[key], key)\n",
    "        table_display.append(key_val_as_tuple)\n",
    "        \n",
    "    table_sorted = sorted(table_display, reverse = True)\n",
    "    for entry in table_sorted:\n",
    "        print(entry[1], ':', entry[0])\n",
    "        "
   ]
  },
  {
   "cell_type": "markdown",
   "metadata": {},
   "source": [
    "We will use the functions defined above to review the categories of applications found in our free iOS applications list."
   ]
  },
  {
   "cell_type": "code",
   "execution_count": 16,
   "metadata": {
    "scrolled": false
   },
   "outputs": [
    {
     "name": "stdout",
     "output_type": "stream",
     "text": [
      "Games : 58.16263190564867\n",
      "Entertainment : 7.883302296710118\n",
      "Photo & Video : 4.9658597144630665\n",
      "Education : 3.6623215394165114\n",
      "Social Networking : 3.2898820608317814\n",
      "Shopping : 2.60707635009311\n",
      "Utilities : 2.5139664804469275\n",
      "Sports : 2.1415270018621975\n",
      "Music : 2.0484171322160147\n",
      "Health & Fitness : 2.017380509000621\n",
      "Productivity : 1.7380509000620732\n",
      "Lifestyle : 1.5828677839851024\n",
      "News : 1.3345747982619491\n",
      "Travel : 1.2414649286157666\n",
      "Finance : 1.1173184357541899\n",
      "Weather : 0.8690254500310366\n",
      "Food & Drink : 0.8069522036002483\n",
      "Reference : 0.5586592178770949\n",
      "Business : 0.5276225946617008\n",
      "Book : 0.4345127250155183\n",
      "Navigation : 0.186219739292365\n",
      "Medical : 0.186219739292365\n",
      "Catalogs : 0.12414649286157665\n"
     ]
    }
   ],
   "source": [
    "display_proportion_table(free_ios_apps, 11) #prime_genre"
   ]
  },
  {
   "cell_type": "markdown",
   "metadata": {},
   "source": [
    "Above, we can see that among free english applications, Games appear to be the most frequent category on the iOS store, followed by entertainment, photo and video applications. These three application categories make up over 70% of apps in our list and the iOS free application store seems to largely populated with applications for fun or social purposes.\n",
    "\n",
    "Let's see if the same trend is found for android applications."
   ]
  },
  {
   "cell_type": "code",
   "execution_count": 17,
   "metadata": {
    "scrolled": false
   },
   "outputs": [
    {
     "name": "stdout",
     "output_type": "stream",
     "text": [
      "FAMILY : 18.907942238267147\n",
      "GAME : 9.724729241877256\n",
      "TOOLS : 8.461191335740072\n",
      "BUSINESS : 4.591606498194946\n",
      "LIFESTYLE : 3.9034296028880866\n",
      "PRODUCTIVITY : 3.892148014440433\n",
      "FINANCE : 3.700361010830325\n",
      "MEDICAL : 3.5311371841155235\n",
      "SPORTS : 3.395758122743682\n",
      "PERSONALIZATION : 3.3167870036101084\n",
      "COMMUNICATION : 3.237815884476534\n",
      "HEALTH_AND_FITNESS : 3.079873646209386\n",
      "PHOTOGRAPHY : 2.9444945848375452\n",
      "NEWS_AND_MAGAZINES : 2.7978339350180503\n",
      "SOCIAL : 2.6624548736462095\n",
      "TRAVEL_AND_LOCAL : 2.33528880866426\n",
      "SHOPPING : 2.2450361010830324\n",
      "BOOKS_AND_REFERENCE : 2.1435018050541514\n",
      "DATING : 1.861462093862816\n",
      "VIDEO_PLAYERS : 1.7937725631768953\n",
      "MAPS_AND_NAVIGATION : 1.3989169675090252\n",
      "FOOD_AND_DRINK : 1.2409747292418774\n",
      "EDUCATION : 1.1620036101083033\n",
      "ENTERTAINMENT : 0.9589350180505415\n",
      "LIBRARIES_AND_DEMO : 0.9363718411552346\n",
      "AUTO_AND_VEHICLES : 0.9250902527075813\n",
      "HOUSE_AND_HOME : 0.8235559566787004\n",
      "WEATHER : 0.8009927797833934\n",
      "EVENTS : 0.7107400722021661\n",
      "PARENTING : 0.6543321299638989\n",
      "ART_AND_DESIGN : 0.6430505415162455\n",
      "COMICS : 0.6204873646209387\n",
      "BEAUTY : 0.5979241877256317\n"
     ]
    }
   ],
   "source": [
    "display_proportion_table(free_android_apps, 1) #Category column"
   ]
  },
  {
   "cell_type": "markdown",
   "metadata": {},
   "source": [
    "Interestingly, among the android google play app store, the category with the most free applications is Family, with the Game having the second most applications. It certainly appears that there are more productivity focused and less game and entertainment focused applications for the android dataset than there were for the iOS dataset (with tools and business categories making up more than 13% of free android applications). Let's take a closer look at the Family category of applications to gain some more insight to our top android category."
   ]
  },
  {
   "cell_type": "markdown",
   "metadata": {},
   "source": [
    "![alt text](FamilyCategory.png \"Family Category of Applications\")"
   ]
  },
  {
   "cell_type": "markdown",
   "metadata": {},
   "source": [
    "We can see above that the Family category of free applications largely consists of games for children. while games are the dominant category for iOS, games and family categores are split into two unique values for the android store. The categorization of genres is clearly  different for the android and iOS app stores, which makes it somewhat difficult to make comparisons between the two.\n",
    "\n",
    "# Install and Rating Counts for Application Categories\n",
    "Now that we know the number of applications that are published for each category, it would be useful to know the popularity of each of these categories of applications. If we are looking to publish a popular and profitable application, it might be useful to publish it under a category that is often downloaded. \n",
    "For the android store, a useful piece of data for determining popularity is the # installs column. This information is not present in the iOS dataset, so we will use the rating count as a proxy."
   ]
  },
  {
   "cell_type": "code",
   "execution_count": 19,
   "metadata": {
    "scrolled": false
   },
   "outputs": [
    {
     "name": "stdout",
     "output_type": "stream",
     "text": [
      "Social Networking : 71548.34905660378\n",
      "Photo & Video : 28441.54375\n",
      "Games : 22788.6696905016\n",
      "Music : 57326.530303030304\n",
      "Reference : 74942.11111111111\n",
      "Health & Fitness : 23298.015384615384\n",
      "Weather : 52279.892857142855\n",
      "Utilities : 18684.456790123455\n",
      "Travel : 28243.8\n",
      "Shopping : 26919.690476190477\n",
      "News : 21248.023255813954\n",
      "Navigation : 86090.33333333333\n",
      "Lifestyle : 16485.764705882353\n",
      "Entertainment : 14029.830708661417\n",
      "Food & Drink : 33333.92307692308\n",
      "Sports : 23008.898550724636\n",
      "Book : 39758.5\n",
      "Finance : 31467.944444444445\n",
      "Education : 7003.983050847458\n",
      "Productivity : 21028.410714285714\n",
      "Business : 7491.117647058823\n",
      "Catalogs : 4004.0\n",
      "Medical : 612.0\n"
     ]
    }
   ],
   "source": [
    "ios_category_ratingcount_frequency = freq_table(free_ios_apps, 11)\n",
    "\n",
    "ios_category_ratings = {}\n",
    "for category in ios_category_ratingcount_frequency:\n",
    "    total = 0\n",
    "    len_genre = 0\n",
    "    for app in free_ios_apps:\n",
    "        if app[11] == category:\n",
    "            total += float(app[5])\n",
    "            len_genre += 1\n",
    "    ios_category_ratings[category] = total / len_genre\n",
    "\n",
    "for i in ios_category_ratingcount_frequency:\n",
    "    print(i,':', ios_category_ratings[i])\n",
    "\n",
    "            "
   ]
  },
  {
   "cell_type": "markdown",
   "metadata": {},
   "source": [
    "We can see that navigation and social networking free ios applications tend to get large numbers of ratings on average. Medical, catalog, and Education applications do not tend to get many ratings. An assumption that we will make (that may or may not be valid) is that the number of downloads that an application gets has a positive linear correlation with the number of reviews received. Under this assumption, we may choose to develop a social networking application, which are moderately represented as a proportion of apps on the ios app store and tend to get high numbers of ratings."
   ]
  },
  {
   "cell_type": "code",
   "execution_count": 29,
   "metadata": {
    "scrolled": false
   },
   "outputs": [
    {
     "name": "stdout",
     "output_type": "stream",
     "text": [
      "[('COMMUNICATION', 38456119), ('VIDEO_PLAYERS', 24727872), ('SOCIAL', 23253652), ('PHOTOGRAPHY', 17840110), ('PRODUCTIVITY', 16787331), ('GAME', 15588015), ('TRAVEL_AND_LOCAL', 13984077), ('ENTERTAINMENT', 11640705), ('TOOLS', 10801391), ('NEWS_AND_MAGAZINES', 9549178), ('BOOKS_AND_REFERENCE', 8767811), ('SHOPPING', 7036877), ('PERSONALIZATION', 5201482), ('WEATHER', 5074486), ('HEALTH_AND_FITNESS', 4188821), ('MAPS_AND_NAVIGATION', 4056941), ('FAMILY', 3695641), ('SPORTS', 3638640), ('ART_AND_DESIGN', 1986335), ('FOOD_AND_DRINK', 1924897), ('EDUCATION', 1833495), ('BUSINESS', 1712290), ('LIFESTYLE', 1437816), ('FINANCE', 1387692), ('HOUSE_AND_HOME', 1331540), ('DATING', 854028), ('COMICS', 817657), ('AUTO_AND_VEHICLES', 647317), ('LIBRARIES_AND_DEMO', 638503), ('PARENTING', 542603), ('BEAUTY', 513151), ('EVENTS', 253542), ('MEDICAL', 120550)]\n"
     ]
    }
   ],
   "source": [
    "android_category_installcount_frequency = freq_table(free_android_apps, 1)\n",
    "\n",
    "android_category_average_install_freqtable = {}\n",
    "for category in android_category_installcount_frequency:\n",
    "    total = 0\n",
    "    len_category = 0\n",
    "    for app in free_android_apps:\n",
    "        category_app = app[1]\n",
    "        if category_app == category:\n",
    "            len_category += 1\n",
    "            installs = app[5]\n",
    "            installs = (installs.replace(\"+\",\"\"))\n",
    "            installs_cleaned = int(installs.replace(\",\",\"\"))\n",
    "            total += installs_cleaned\n",
    "    average_installs = total / len_category\n",
    "    #print(category, ':', str(int(average_installs)))\n",
    "    android_category_average_install_freqtable[category] = int(average_installs)\n",
    "#print(android_category_average_install_freqtable)\n",
    "\n",
    "import operator\n",
    "x = {1: 2, 3: 4, 4: 3, 2: 1, 0: 0}\n",
    "sorted_x = sorted(android_category_average_install_freqtable.items(), key=operator.itemgetter(1),reverse=True)\n",
    "print(sorted_x)\n",
    "\n",
    "\n",
    "            "
   ]
  },
  {
   "cell_type": "markdown",
   "metadata": {},
   "source": [
    "Above we can see that Communication, Video Player, and Social applications receive many installations from the google play store, while Parenting, Beauty, Events, and Medical applications do not receive as many installs. Communication applications seem to be fairly well represented on the google play and get many installations, so it may be a good idea to try to create a communications app."
   ]
  },
  {
   "cell_type": "code",
   "execution_count": null,
   "metadata": {},
   "outputs": [],
   "source": []
  }
 ],
 "metadata": {
  "kernelspec": {
   "display_name": "Python 3",
   "language": "python",
   "name": "python3"
  },
  "language_info": {
   "codemirror_mode": {
    "name": "ipython",
    "version": 3
   },
   "file_extension": ".py",
   "mimetype": "text/x-python",
   "name": "python",
   "nbconvert_exporter": "python",
   "pygments_lexer": "ipython3",
   "version": "3.7.4"
  }
 },
 "nbformat": 4,
 "nbformat_minor": 2
}
